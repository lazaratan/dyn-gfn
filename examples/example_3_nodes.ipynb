{
 "cells": [
  {
   "cell_type": "code",
   "execution_count": 1,
   "metadata": {},
   "outputs": [],
   "source": [
    "import numpy as np\n",
    "import pandas as pd\n",
    "import causalnex\n",
    "import sdeint\n",
    "import networkx as nx\n",
    "\n",
    "from functools import partial"
   ]
  },
  {
   "cell_type": "code",
   "execution_count": 2,
   "metadata": {},
   "outputs": [
    {
     "name": "stdout",
     "output_type": "stream",
     "text": [
      "[(1, 0)]\n",
      "[[0 1]\n",
      " [0 0]]\n"
     ]
    }
   ],
   "source": [
    "# check adjacency matrix notation E = i -> j, i = col, j = row\n",
    "# causalnex uses networkx\n",
    "edge_list = [\n",
    "    (1, 0),\n",
    "]\n",
    "print(edge_list)\n",
    "G = nx.DiGraph(edge_list)\n",
    "adj_matrix = nx.adjacency_matrix(G)\n",
    "print(adj_matrix.todense())"
   ]
  },
  {
   "cell_type": "code",
   "execution_count": 3,
   "metadata": {},
   "outputs": [],
   "source": [
    "def linear(x, t, A):\n",
    "    return A @ x\n",
    "\n",
    "def simulate_toy_linear(\n",
    "    p, T, A, sigma=0.1, delta_t=0.1, burn_in=0, seed=None\n",
    "):\n",
    "    if seed is not None:\n",
    "        np.random.seed(seed)\n",
    "\n",
    "    def GG(x, t):\n",
    "        p = len(x)\n",
    "        return np.diag([sigma] * p)\n",
    "\n",
    "    x0 = np.random.normal(scale=1, size=p)\n",
    "    t = np.linspace(0, (T + burn_in) * delta_t, T + burn_in)\n",
    "    lin = partial(linear, A=A)\n",
    "    # X = odeint(lin, x0, t)\n",
    "    X = sdeint.itoint(lin, GG, x0, t)\n",
    "\n",
    "    GC = (np.abs(A) > 0).astype(np.int64)\n",
    "    return X[burn_in:], GC\n"
   ]
  },
  {
   "cell_type": "code",
   "execution_count": 4,
   "metadata": {},
   "outputs": [
    {
     "name": "stdout",
     "output_type": "stream",
     "text": [
      "DAG:\n",
      "[[0.   0.5  0.  ]\n",
      " [0.   0.   0.  ]\n",
      " [0.   0.25 0.  ]]\n",
      "\n",
      "Cyclic Graph\n",
      "[[0.   0.5  0.  ]\n",
      " [0.5  0.   0.25]\n",
      " [0.   0.25 0.  ]]\n"
     ]
    }
   ],
   "source": [
    "A_dag = [\n",
    "     [0, 0.5, 0],\n",
    "     [0, 0, 0],\n",
    "     [0, 0.25, 0]\n",
    "     ]\n",
    "A_dag = np.array(A_dag)\n",
    "print('DAG:')\n",
    "print(A_dag)\n",
    "\n",
    "# Cyclic graph example\n",
    "A = [\n",
    "     [0, 0.5, 0],\n",
    "     [0.5, 0, 0.25],\n",
    "     [0, 0.25, 0]\n",
    "     ]\n",
    "A = np.array(A)\n",
    "print('\\nCyclic Graph')\n",
    "print(A)"
   ]
  },
  {
   "cell_type": "code",
   "execution_count": 5,
   "metadata": {},
   "outputs": [
    {
     "name": "stdout",
     "output_type": "stream",
     "text": [
      "(500, 2, 3) (500, 3, 3)\n",
      "[[ 1.62434536 -0.61175641 -0.52817175]\n",
      " [ 1.51518511 -0.57305421 -0.66168751]]\n",
      "[[0 1 0]\n",
      " [0 0 0]\n",
      " [0 1 0]]\n",
      "(500, 2, 3) (500, 3, 3)\n",
      "[[ 1.62434536 -0.61175641 -0.52817175]\n",
      " [ 1.5219864  -0.44085174 -0.65828686]]\n",
      "[[0 1 0]\n",
      " [1 0 1]\n",
      " [0 1 0]]\n"
     ]
    }
   ],
   "source": [
    "# simulate DAG system\n",
    "trajectories = [simulate_toy_linear(p=A_dag.shape[0], T=2, A=A_dag, seed=1) for i in range(500)]\n",
    "\n",
    "X_dag, GC_dag = zip(*trajectories)\n",
    "X_dag = np.array(X_dag)\n",
    "GC_dag = np.array(GC_dag)\n",
    "\n",
    "print(X_dag.shape, GC_dag.shape)\n",
    "print(X_dag[0])\n",
    "print(GC_dag[0])\n",
    "\n",
    "# simulate cyclic system\n",
    "trajectories = [simulate_toy_linear(p=A.shape[0], T=2, A=A, seed=1) for i in range(500)]\n",
    "\n",
    "X, GC = zip(*trajectories)\n",
    "X = np.array(X)\n",
    "GC = np.array(GC)\n",
    "\n",
    "print(X.shape, GC.shape)\n",
    "print(X[0])\n",
    "print(GC[0])"
   ]
  },
  {
   "cell_type": "code",
   "execution_count": 6,
   "metadata": {},
   "outputs": [],
   "source": [
    "from causalnex.structure.notears import from_numpy\n",
    "from causalnex.structure import StructureModel\n",
    "from causalnex.plots import plot_structure, NODE_STYLE, EDGE_STYLE\n",
    "\n",
    "import warnings\n",
    "warnings.filterwarnings(\"ignore\")  # silence warnings"
   ]
  },
  {
   "cell_type": "code",
   "execution_count": 7,
   "metadata": {},
   "outputs": [
    {
     "name": "stdout",
     "output_type": "stream",
     "text": [
      "Egdes pred: [(1, 0), (1, 2), (2, 0)]\n",
      "\n",
      "Predicted DAG: \n",
      "\n",
      "[[0 1 1]\n",
      " [0 0 0]\n",
      " [0 1 0]]\n",
      "[[ 0.         -0.84713451 -1.55607187]\n",
      " [ 0.          0.          0.        ]\n",
      " [ 0.          1.15257811  0.        ]]\n"
     ]
    }
   ],
   "source": [
    "# Predict DAG\n",
    "d = X_dag[:, 1, :].shape[-1]\n",
    "sm_dag = from_numpy(X_dag[:, 1, :], w_threshold=1e-3)\n",
    "dag_pred_dict = sm_dag.adj\n",
    "\n",
    "print('Egdes pred:', sm_dag.edges)\n",
    "G_dag_pred = nx.adjacency_matrix(nx.DiGraph(sm_dag.edges))\n",
    "\n",
    "A_dag_pred = np.zeros((d, d))\n",
    "for node, adj in dag_pred_dict.items():\n",
    "    if adj:\n",
    "        for e in adj:\n",
    "            A_dag_pred[e, node] = adj[e]['weight'] # following networx adj orientation\n",
    "\n",
    "print('\\nPredicted DAG: \\n')\n",
    "print(G_dag_pred.todense())\n",
    "print(A_dag_pred)"
   ]
  },
  {
   "cell_type": "code",
   "execution_count": 8,
   "metadata": {},
   "outputs": [
    {
     "name": "stdout",
     "output_type": "stream",
     "text": [
      "Egdes pred: [(1, 0), (1, 2), (2, 0)]\n",
      "\n",
      "Predicted Cyclic Graph: \n",
      "\n",
      "[[0 1 1]\n",
      " [0 0 0]\n",
      " [0 1 0]]\n",
      "[[ 0.         -1.0997659  -1.57417817]\n",
      " [ 0.          0.          0.        ]\n",
      " [ 0.          1.48833398  0.        ]]\n"
     ]
    }
   ],
   "source": [
    "# Predict Cyclic directed graph\n",
    "d = X[:, 1, :].shape[-1]\n",
    "sm_cyc = from_numpy(X[:, 1, :], w_threshold=1e-3)\n",
    "cyc_pred_dict = sm_cyc.adj\n",
    "\n",
    "print('Egdes pred:', sm_cyc.edges)\n",
    "G_cyc_pred = nx.adjacency_matrix(nx.DiGraph(sm_cyc.edges))\n",
    "\n",
    "A_cyc_pred = np.zeros((d, d))\n",
    "for node, adj in cyc_pred_dict.items():\n",
    "    if adj:\n",
    "        for e in adj:\n",
    "            A_cyc_pred[e, node] = adj[e]['weight'] # following networx adj orientation\n",
    "\n",
    "print('\\nPredicted Cyclic Graph: \\n')\n",
    "print(G_cyc_pred.todense())\n",
    "print(A_cyc_pred)\n"
   ]
  },
  {
   "cell_type": "code",
   "execution_count": 9,
   "metadata": {},
   "outputs": [
    {
     "name": "stdout",
     "output_type": "stream",
     "text": [
      "[[ 0.         -0.04081305  0.        ]\n",
      " [ 0.          0.03726917  0.        ]\n",
      " [-0.03696612  0.          0.00184038]]\n",
      "[[0.         0.54210287 0.        ]\n",
      " [0.56031996 0.         0.17923339]\n",
      " [0.         0.21360396 0.        ]]\n"
     ]
    }
   ],
   "source": [
    "# import l-DynGFN learned DAG\n",
    "path = '/home/mila/l/lazar.atanackovic/dyn-gfn/examples/dyn_gfn_A_est/A_dag_1024_mean.csv'\n",
    "df_dyngfn_dag = pd.read_csv(path, delimiter=',', header=None)\n",
    "print(df_dyngfn_dag.values)\n",
    "A_dyngfn_dag = df_dyngfn_dag.to_numpy()\n",
    "\n",
    "# import l-DynGFN learned Cyclic Graph\n",
    "path = '/home/mila/l/lazar.atanackovic/dyn-gfn/examples/dyn_gfn_A_est/A_cyc_1024_mean.csv'\n",
    "df_dyngfn_cyc = pd.read_csv(path, delimiter=',', header=None)\n",
    "print(df_dyngfn_cyc.values)\n",
    "A_dyngfn_cyc = df_dyngfn_cyc.to_numpy()"
   ]
  },
  {
   "cell_type": "code",
   "execution_count": 10,
   "metadata": {},
   "outputs": [
    {
     "data": {
      "image/png": "[encoded data removed]",
      "text/plain": [
       "<Figure size 1080x720 with 6 Axes>"
      ]
     },
     "metadata": {
      "needs_background": "light"
     },
     "output_type": "display_data"
    }
   ],
   "source": [
    "import matplotlib.pyplot as plt\n",
    "import seaborn as sns\n",
    "\n",
    "plt.rcParams.update({'font.size': 15})\n",
    "fig, axs = plt.subplots(2, 3, figsize=(15,10), sharex=True, sharey=True)\n",
    "\n",
    "ticks = [\"1\", \"2\", \"3\"]\n",
    "sns.heatmap(A_dag, annot=A_dag, ax=axs[0, 0], cbar=False, cmap=\"viridis\")\n",
    "sns.heatmap(A_dag_pred, annot=A_dag_pred, ax=axs[0, 1], cbar=False, cmap=\"viridis\")\n",
    "sns.heatmap(A_dyngfn_dag, annot=A_dyngfn_dag, ax=axs[0, 2], cbar=False, cmap=\"viridis\")\n",
    "sns.heatmap(A, annot=A, ax=axs[1, 0], cbar=False, cmap=\"viridis\")\n",
    "sns.heatmap(A_cyc_pred, annot=A_cyc_pred, ax=axs[1, 1], cbar=False, cmap=\"viridis\")\n",
    "sns.heatmap(A_dyngfn_cyc, annot=A_dyngfn_cyc, ax=axs[1, 2], cbar=False, cmap=\"viridis\")\n",
    "\n",
    "axs[0, 0].set_yticklabels(ticks)\n",
    "axs[0, 0].set_xticklabels(ticks)\n",
    "\n",
    "#axs[0, 0].set_ylabel('Acyclic')\n",
    "#axs[1, 0].set_ylabel('Cyclic')\n",
    "axs[0, 0].title.set_text('True Directed Graphs')\n",
    "axs[0, 1].title.set_text('NOTEARS')\n",
    "axs[0, 2].title.set_text('DynGFN')\n",
    "\n",
    "plt.show()\n",
    "fig.savefig('/home/mila/l/lazar.atanackovic/dyn-gfn/examples/figures/toy_example.pdf')\n"
   ]
  },
  {
   "cell_type": "code",
   "execution_count": 19,
   "metadata": {},
   "outputs": [
    {
     "name": "stdout",
     "output_type": "stream",
     "text": [
      "DAG\n",
      "NOTEARS: 0.5714285714285714\n",
      "DynGFN: 0.2142857142857143\n",
      "----------------\n",
      "Cyclic\n",
      "NOTEARS: 0.5833333333333334\n",
      "DynGFN: 1.0\n"
     ]
    }
   ],
   "source": [
    "from sklearn.metrics import roc_auc_score\n",
    "\n",
    "# calculate AUCROC DAG\n",
    "#print(X_dag[0])\n",
    "#print((A_dag_pred != 0).astype(int))\n",
    "AUC_dag_notears = roc_auc_score(GC_dag[0].flatten(), A_dag_pred.flatten())\n",
    "AUC_dag_dyngfn = roc_auc_score(GC_dag[0].flatten(), A_dyngfn_dag.flatten())\n",
    "print('DAG')\n",
    "print('NOTEARS:', AUC_dag_notears)\n",
    "print('DynGFN:', AUC_dag_dyngfn)\n",
    "print('----------------')\n",
    "\n",
    "# calculate AUCROC DAG\n",
    "AUC_cyc_notears = roc_auc_score(GC[0], A_cyc_pred)\n",
    "AUC_cyc_dyngfn = roc_auc_score(GC[0], A_dyngfn_cyc)\n",
    "print('Cyclic')\n",
    "print('NOTEARS:', AUC_cyc_notears)\n",
    "print('DynGFN:', AUC_cyc_dyngfn)"
   ]
  },
  {
   "cell_type": "code",
   "execution_count": null,
   "metadata": {},
   "outputs": [
    {
     "data": {
      "image/png": "[encoded data removed]",
      "text/plain": [
       "<Figure size 720x360 with 2 Axes>"
      ]
     },
     "metadata": {
      "needs_background": "light"
     },
     "output_type": "display_data"
    }
   ],
   "source": [
    "path = '/home/mila/l/lazar.atanackovic/dyn-gfn/examples/loss_plots/wandb_export_2023-08-07T15_19_57.170-04_00_MSE.csv'\n",
    "df_mse = pd.read_csv(path, delimiter=',')\n",
    "\n",
    "path = '/home/mila/l/lazar.atanackovic/dyn-gfn/examples/loss_plots/wandb_export_2023-08-07T15_20_08.065-04_00_BAYES_SHD.csv'\n",
    "df_shd = pd.read_csv(path, delimiter=',')\n",
    "\n",
    "\n",
    "plt.rcParams.update({'font.size': 12})\n",
    "fig, axs = plt.subplots(1, 2, figsize=(10,5))\n",
    "\n",
    "y = df_mse['model/_target_: src.models.parallel_energy_gfn_module.PerNodeParallelLinearTrainableCausalGraphGFlowNetModule - val/mse']\n",
    "axs[0].plot(\n",
    "    df_mse['Step'], \n",
    "    y,\n",
    "    )\n",
    "axs[0].fill_between(\n",
    "    df_mse['Step'], \n",
    "    df_mse['model/_target_: src.models.parallel_energy_gfn_module.PerNodeParallelLinearTrainableCausalGraphGFlowNetModule - val/mse__MAX'],\n",
    "    df_mse['model/_target_: src.models.parallel_energy_gfn_module.PerNodeParallelLinearTrainableCausalGraphGFlowNetModule - val/mse__MIN'],\n",
    "    color='b', \n",
    "    alpha=.1,\n",
    "    )\n",
    "axs[0].set_xlim([0, 1000])\n",
    "axs[0].legend(['MSE'])\n",
    "axs[0].set_xlabel('epoch')\n",
    "\n",
    "y = df_shd['model/_target_: src.models.parallel_energy_gfn_module.PerNodeParallelLinearTrainableCausalGraphGFlowNetModule - val/bayes_shd']\n",
    "axs[1].plot(\n",
    "    df_shd['Step'], \n",
    "    y,\n",
    "    color='orange',\n",
    "    )\n",
    "axs[1].fill_between(\n",
    "    df_shd['Step'], \n",
    "    df_shd['model/_target_: src.models.parallel_energy_gfn_module.PerNodeParallelLinearTrainableCausalGraphGFlowNetModule - val/bayes_shd__MAX'],\n",
    "    df_shd['model/_target_: src.models.parallel_energy_gfn_module.PerNodeParallelLinearTrainableCausalGraphGFlowNetModule - val/bayes_shd__MIN'],\n",
    "    color='orange', \n",
    "    alpha=.1,\n",
    "    )\n",
    "axs[1].set_xlim([0, 1000])\n",
    "axs[1].legend(['Bayes-SHD'])\n",
    "axs[1].set_xlabel('epoch')\n",
    "\n",
    "plt.show()\n",
    "fig.savefig('/home/mila/l/lazar.atanackovic/dyn-gfn/examples/figures/training_val_curves.pdf')"
   ]
  },
  {
   "cell_type": "code",
   "execution_count": null,
   "metadata": {},
   "outputs": [],
   "source": []
  }
 ],
 "metadata": {
  "kernelspec": {
   "display_name": "structure_recovery",
   "language": "python",
   "name": "python3"
  },
  "language_info": {
   "codemirror_mode": {
    "name": "ipython",
    "version": 3
   },
   "file_extension": ".py",
   "mimetype": "text/x-python",
   "name": "python",
   "nbconvert_exporter": "python",
   "pygments_lexer": "ipython3",
   "version": "3.9.12"
  },
  "orig_nbformat": 4
 },
 "nbformat": 4,
 "nbformat_minor": 2
}
